{
 "cells": [
  {
   "cell_type": "markdown",
   "id": "material-mounting",
   "metadata": {},
   "source": [
    "## Install KPI Reporter\n",
    "\n",
    "For this tutorial, we will only need a few plugins. You can install `kpireport[all]` to install all available plugins."
   ]
  },
  {
   "cell_type": "code",
   "execution_count": 1,
   "id": "mineral-zambia",
   "metadata": {},
   "outputs": [
    {
     "name": "stdout",
     "output_type": "stream",
     "text": [
      "Requirement already satisfied: kpireport in /opt/conda/lib/python3.8/site-packages (0.0.1)\n",
      "Requirement already satisfied: kpireport-mysql in /opt/conda/lib/python3.8/site-packages (0.0.2)\n",
      "Requirement already satisfied: kpireport-plot in /opt/conda/lib/python3.8/site-packages (0.1.2)\n",
      "Requirement already satisfied: pandas in /opt/conda/lib/python3.8/site-packages (from kpireport) (1.2.1)\n",
      "Requirement already satisfied: stevedore in /opt/conda/lib/python3.8/site-packages (from kpireport) (3.3.0)\n",
      "Requirement already satisfied: jinja2 in /opt/conda/lib/python3.8/site-packages (from kpireport) (2.11.2)\n",
      "Requirement already satisfied: pyyaml in /opt/conda/lib/python3.8/site-packages (from kpireport) (5.4.1)\n",
      "Requirement already satisfied: python-slugify in /opt/conda/lib/python3.8/site-packages (from kpireport) (4.0.1)\n",
      "Requirement already satisfied: PyMySQL in /opt/conda/lib/python3.8/site-packages (from kpireport-mysql) (1.0.2)\n",
      "Requirement already satisfied: matplotlib in /opt/conda/lib/python3.8/site-packages (from kpireport-plot) (3.3.3)\n",
      "Requirement already satisfied: MarkupSafe>=0.23 in /opt/conda/lib/python3.8/site-packages (from jinja2->kpireport) (1.1.1)\n",
      "Requirement already satisfied: python-dateutil>=2.1 in /opt/conda/lib/python3.8/site-packages (from matplotlib->kpireport-plot) (2.8.1)\n",
      "Requirement already satisfied: cycler>=0.10 in /opt/conda/lib/python3.8/site-packages (from matplotlib->kpireport-plot) (0.10.0)\n",
      "Requirement already satisfied: pillow>=6.2.0 in /opt/conda/lib/python3.8/site-packages (from matplotlib->kpireport-plot) (8.1.0)\n",
      "Requirement already satisfied: pyparsing!=2.0.4,!=2.1.2,!=2.1.6,>=2.0.3 in /opt/conda/lib/python3.8/site-packages (from matplotlib->kpireport-plot) (2.4.7)\n",
      "Requirement already satisfied: kiwisolver>=1.0.1 in /opt/conda/lib/python3.8/site-packages (from matplotlib->kpireport-plot) (1.3.1)\n",
      "Requirement already satisfied: numpy>=1.15 in /opt/conda/lib/python3.8/site-packages (from matplotlib->kpireport-plot) (1.19.5)\n",
      "Requirement already satisfied: six in /opt/conda/lib/python3.8/site-packages (from cycler>=0.10->matplotlib->kpireport-plot) (1.15.0)\n",
      "Requirement already satisfied: pytz>=2017.3 in /opt/conda/lib/python3.8/site-packages (from pandas->kpireport) (2020.5)\n",
      "Requirement already satisfied: text-unidecode>=1.3 in /opt/conda/lib/python3.8/site-packages (from python-slugify->kpireport) (1.3)\n",
      "Requirement already satisfied: pbr!=2.1.0,>=2.0.0 in /opt/conda/lib/python3.8/site-packages (from stevedore->kpireport) (5.5.1)\n"
     ]
    }
   ],
   "source": [
    "pip install kpireport kpireport-mysql kpireport-plot"
   ]
  },
  {
   "cell_type": "markdown",
   "id": "outside-margin",
   "metadata": {},
   "source": [
    "## Set up test database\n",
    "\n",
    "For this tutorial, we'll be using a test database on a local MySQL server. The [initdb.sql](./initdb.sql) file has the test data; you can update this file and re-run this cell to re-seed the local database."
   ]
  },
  {
   "cell_type": "code",
   "execution_count": 10,
   "id": "responsible-denial",
   "metadata": {},
   "outputs": [
    {
     "name": "stdout",
     "output_type": "stream",
     "text": [
      "2021-01-24T01:24:00.601626Z mysqld_safe Logging to '/tmp/mysql_error.log'.\n",
      "2021-01-24T01:24:00.630732Z mysqld_safe Starting mysqld daemon with databases from /tmp/mysql\n",
      "Database initialized.\n"
     ]
    }
   ],
   "source": [
    "# Start the server in the background\n",
    "[[ -f /tmp/mysql.pid ]] || (mysqld &) && while [[ ! -f /tmp/mysql.pid ]]; do sleep 1; done\n",
    "# Initialize the database and tables\n",
    "mysql <initdb.sql && echo \"Database initialized.\""
   ]
  },
  {
   "cell_type": "markdown",
   "id": "occupational-empire",
   "metadata": {},
   "source": [
    "## Run your first report\n",
    "\n",
    "The [`config.yaml`](./config.yaml) file contains our report configuration. We will start by defining a **datasource** for our MariaDB server and a **view** displaying the result of a query as a bar chart."
   ]
  },
  {
   "cell_type": "code",
   "execution_count": 11,
   "id": "contrary-candle",
   "metadata": {},
   "outputs": [
    {
     "name": "stdout",
     "output_type": "stream",
     "text": [
      "---\n",
      "title: Quickstart Tutorial\n",
      "\n",
      "datasources:\n",
      "    my_db:\n",
      "        plugin: mysql\n",
      "        args:\n",
      "            host: localhost\n",
      "            user: ${NB_USER}\n",
      "            \n",
      "views:\n",
      "    num_users:\n",
      "        plugin: plot\n",
      "        args:\n",
      "            datasource: my_db\n",
      "            query: select * from tutorial.new_users\n",
      "            kind: bar\n",
      "            \n",
      "outputs:\n",
      "    html:\n",
      "        plugin: static\n"
     ]
    }
   ],
   "source": [
    "cat config.yaml"
   ]
  },
  {
   "cell_type": "markdown",
   "id": "played-proof",
   "metadata": {},
   "source": [
    "By default, the report will be rendered as HTML using the [Static](https://kpi-reporter.readthedocs.io/en/latest/plugins/static.html) plugin."
   ]
  },
  {
   "cell_type": "code",
   "execution_count": 13,
   "id": "documented-atmosphere",
   "metadata": {},
   "outputs": [
    {
     "name": "stdout",
     "output_type": "stream",
     "text": [
      "INFO:kpireport.plugin:Loaded datasource plugins: ['mysql', 'jenkins', 'prometheus']\n",
      "INFO:kpireport.plugin:Initialized datasource my_db\n",
      "INFO:kpireport.plugin:Loaded view plugins: ['jenkins.build_summary', 'plot', 'single_stat', 'prometheus.alert_summary']\n",
      "INFO:kpireport.plugin:Initialized view num_users\n",
      "INFO:kpireport.plugin:Loaded output driver plugins: ['static', 'slack', 's3', 'scp', 'sendgrid', 'smtp']\n",
      "INFO:kpireport.plugin:Initialized output driver html\n",
      "INFO:kpireport.report:Sending report via output driver html\n",
      "Generated report in 1439.04ms.\n"
     ]
    }
   ],
   "source": [
    "kpireport -c config.yaml"
   ]
  },
  {
   "cell_type": "markdown",
   "id": "reasonable-shakespeare",
   "metadata": {
    "tags": [
     "remove_cell"
    ]
   },
   "source": [
    "## Examine output\n",
    "\n",
    "**[View output HTML](./_build/latest-quickstart-tutorial/index.html)**"
   ]
  },
  {
   "cell_type": "markdown",
   "id": "atomic-neighborhood",
   "metadata": {},
   "source": [
    "## Adding a new view\n",
    "\n",
    "We will now add a new view that shows the total number of users in the database, using the [Single stat](https://kpi-reporter.readthedocs.io/en/latest/plugins/plot.html#single-stat) plugin.\n"
   ]
  },
  {
   "cell_type": "code",
   "execution_count": 15,
   "id": "dominican-cameroon",
   "metadata": {},
   "outputs": [
    {
     "name": "stdout",
     "output_type": "stream",
     "text": [
      "---\n",
      "title: Quickstart Tutorial\n",
      "\n",
      "datasources:\n",
      "    my_db:\n",
      "        plugin: mysql\n",
      "        args:\n",
      "            host: localhost\n",
      "            user: ${NB_USER}\n",
      "            \n",
      "views:\n",
      "    num_users:\n",
      "        cols: 4\n",
      "        plugin: plot\n",
      "        args:\n",
      "            datasource: my_db\n",
      "            query: select * from tutorial.new_users\n",
      "            kind: bar\n",
      "    total_users:\n",
      "        title: Total new users\n",
      "        cols: 2\n",
      "        plugin: single_stat\n",
      "        args:\n",
      "            datasource: my_db\n",
      "            query: select sum(num_new_users) from tutorial.new_users\n",
      "            \n",
      "outputs:\n",
      "    html:\n",
      "        plugin: static\n"
     ]
    }
   ],
   "source": [
    "cat config-2.yaml"
   ]
  },
  {
   "cell_type": "code",
   "execution_count": 16,
   "id": "practical-beverage",
   "metadata": {},
   "outputs": [
    {
     "name": "stdout",
     "output_type": "stream",
     "text": [
      "INFO:kpireport.plugin:Loaded datasource plugins: ['mysql', 'jenkins', 'prometheus']\n",
      "INFO:kpireport.plugin:Initialized datasource my_db\n",
      "INFO:kpireport.plugin:Loaded view plugins: ['jenkins.build_summary', 'plot', 'single_stat', 'prometheus.alert_summary']\n",
      "INFO:kpireport.plugin:Initialized view num_users\n",
      "INFO:kpireport.plugin:Initialized view total_users\n",
      "INFO:kpireport.plugin:Loaded output driver plugins: ['static', 'slack', 's3', 'scp', 'sendgrid', 'smtp']\n",
      "INFO:kpireport.plugin:Initialized output driver html\n",
      "INFO:kpireport.report:Sending report via output driver html\n",
      "Generated report in 1346.79ms.\n"
     ]
    }
   ],
   "source": [
    "kpireport -c config-2.yaml"
   ]
  },
  {
   "cell_type": "markdown",
   "id": "following-swift",
   "metadata": {
    "tags": [
     "remove_cell"
    ]
   },
   "source": [
    "**[View output HTML](./_build/latest-quickstart-tutorial/index.html)**"
   ]
  },
  {
   "cell_type": "markdown",
   "id": "north-clause",
   "metadata": {},
   "source": [
    "Notice that we added a `title` to the single stat view to give more context as to what the number indicates. Additionally, the view was placed side-by-side with the first plot by adjusting the `columns` parameter for each view. By default every report uses a 6-column layout, but this [can be configured at the theme level](https://kpi-reporter.readthedocs.io/en/latest/api/report.html#kpireport.report.Theme.num_columns)."
   ]
  },
  {
   "cell_type": "markdown",
   "id": "infinite-revelation",
   "metadata": {},
   "source": [
    "## Have fun!\n",
    "\n",
    "This example has hopefully given you some ideas on how to get started creating your first report :)\n",
    "If you are interested in not outputting HTML, but instead sending via email, refer to the plugin documentation for, e.g., the [SMTP](https://kpi-reporter.readthedocs.io/en/latest/plugins/smtp.html) or [SendGrid](https://kpi-reporter.readthedocs.io/en/stable/plugins/sendgrid.html) plugins."
   ]
  }
 ],
 "metadata": {
  "kernelspec": {
   "display_name": "Bash",
   "language": "bash",
   "name": "bash"
  },
  "language_info": {
   "codemirror_mode": "shell",
   "file_extension": ".sh",
   "mimetype": "text/x-sh",
   "name": "bash"
  },
  "toc-autonumbering": false,
  "toc-showcode": false
 },
 "nbformat": 4,
 "nbformat_minor": 5
}
