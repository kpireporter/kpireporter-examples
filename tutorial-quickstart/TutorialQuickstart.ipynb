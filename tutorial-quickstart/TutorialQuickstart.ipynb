{
 "cells": [
  {
   "cell_type": "markdown",
   "id": "ready-michael",
   "metadata": {},
   "source": [
    "## Get the Docker image\n",
    "\n",
    "For this tutorial, we will use the Docker image published to the public Docker Hub."
   ]
  },
  {
   "cell_type": "code",
   "execution_count": 1,
   "id": "suspected-championship",
   "metadata": {},
   "outputs": [
    {
     "name": "stdout",
     "output_type": "stream",
     "text": [
      "edge: Pulling from kpireporter/kpireporter\n",
      "Digest: sha256:84190806a8915e8de87d688da17af56fd8b1cae193dddbe27996d975721e94f3\n",
      "Status: Image is up to date for kpireporter/kpireporter:edge\n",
      "docker.io/kpireporter/kpireporter:edge\n",
      "\u001b[?2004h"
     ]
    },
    {
     "ename": "",
     "evalue": "1",
     "output_type": "error",
     "traceback": []
    }
   ],
   "source": [
    "docker pull kpireporter/kpireporter:edge"
   ]
  },
  {
   "cell_type": "markdown",
   "id": "crazy-resort",
   "metadata": {},
   "source": [
    "## Set up test database\n",
    "\n",
    "For this tutorial, we will use a temporary MySQL database running in a Docker container. It will be initialized with one table `tutorial.new_users`, which we will use to render visualizations from.\n",
    "\n",
    "In order to have our KPI Reporter container \"see\" the database over Docker networking, we have to create our own Docker network instead of utilizing the default `bridge` network."
   ]
  },
  {
   "cell_type": "code",
   "execution_count": 2,
   "id": "centered-reserve",
   "metadata": {},
   "outputs": [
    {
     "name": "stdout",
     "output_type": "stream",
     "text": [
      "\u001b[?2004h"
     ]
    },
    {
     "ename": "",
     "evalue": "1",
     "output_type": "error",
     "traceback": []
    }
   ],
   "source": [
    "docker network inspect tutorial_net 2>&1 >/dev/null || docker network create tutorial_net"
   ]
  },
  {
   "cell_type": "markdown",
   "id": "apparent-disney",
   "metadata": {},
   "source": [
    "Start a MariaDB container and pass some environment variables ([as documented on Docker Hub](https://hub.docker.com/_/mariadb)) to initialize a database and a default user, which we will use when authenticating. Note the name of the container is **tutorial_mysql**--we will configure this as the DB host in the report configuration."
   ]
  },
  {
   "cell_type": "code",
   "execution_count": 4,
   "id": "after-internship",
   "metadata": {},
   "outputs": [
    {
     "name": "stdout",
     "output_type": "stream",
     "text": [
      "tutorial_mysql\n",
      "Cleaned up old DB container\n",
      "b93b0a566ede06d2cdc5603d2852a05b871962cceb4491452919be9dc71bf243\n",
      "\u001b[?2004h"
     ]
    },
    {
     "ename": "",
     "evalue": "1",
     "output_type": "error",
     "traceback": []
    }
   ],
   "source": [
    "docker stop tutorial_mysql 2>/dev/null && echo \"Cleaned up old DB container\"\n",
    "docker run --rm -d --net=tutorial_net \\\n",
    "  --env MYSQL_RANDOM_ROOT_PASSWORD=1 \\\n",
    "  --env MYSQL_USER=kpireporter --env MYSQL_PASSWORD=kpireporter --env MYSQL_DATABASE=tutorial \\\n",
    "  -v $(realpath initdb.sql):/docker-entrypoint-initdb.d/initdb.sql \\\n",
    "  --name=tutorial_mysql mariadb:latest"
   ]
  },
  {
   "cell_type": "markdown",
   "id": "compliant-senegal",
   "metadata": {},
   "source": [
    "> **Note**: you may need to wait a few (~30) seconds for the database to fully initialize before proceeding to the next step."
   ]
  },
  {
   "cell_type": "markdown",
   "id": "sweet-eating",
   "metadata": {},
   "source": [
    "## Run your first report\n",
    "\n",
    "The [`config.yaml`](./config.yaml) file contains our report configuration. We will start by defining a **datasource** for our MariaDB server and a **view** displaying the result of a query as a bar chart."
   ]
  },
  {
   "cell_type": "code",
   "execution_count": 6,
   "id": "reverse-matrix",
   "metadata": {},
   "outputs": [
    {
     "name": "stdout",
     "output_type": "stream",
     "text": [
      "---2004l\n",
      "title: Quickstart Tutorial\n",
      "\n",
      "datasources:\n",
      "    my_db:\n",
      "        plugin: mysql\n",
      "        args:\n",
      "            host: tutorial_mysql\n",
      "            user: ${DATABASE_USER}\n",
      "            password: ${DATABASE_PASSWORD}\n",
      "            \n",
      "views:\n",
      "    num_users:\n",
      "        plugin: plot\n",
      "        args:\n",
      "            datasource: my_db\n",
      "            query: select * from tutorial.new_users\n",
      "            kind: bar\n",
      "            \n",
      "outputs:\n",
      "    html:\n",
      "        plugin: static\n",
      "        args:\n",
      "            output_dir: /out\n",
      "\u001b[?2004h"
     ]
    },
    {
     "ename": "",
     "evalue": "1",
     "output_type": "error",
     "traceback": []
    }
   ],
   "source": [
    "cat config.yaml"
   ]
  },
  {
   "cell_type": "markdown",
   "id": "advisory-maldives",
   "metadata": {},
   "source": [
    "By default, the report will be rendered as HTML using the [Static](https://kpi-reporter.readthedocs.io/en/latest/plugins/static.html) plugin."
   ]
  },
  {
   "cell_type": "code",
   "execution_count": 9,
   "id": "blocked-despite",
   "metadata": {},
   "outputs": [
    {
     "name": "stdout",
     "output_type": "stream",
     "text": [
      "rm: cannot remove 'out/2021-01-12_2021-01-19_quickstart-tutorial/index.html': Permission denied\n",
      "rm: cannot remove 'out/2021-01-12_2021-01-19_quickstart-tutorial/num_users/figure.png': Permission denied\n",
      "INFO:kpireport.plugin:Loaded datasource plugins: ['jenkins', 'prometheus', 'mysql', 'googleanalytics']\n",
      "INFO:kpireport.plugin:Initialized datasource my_db\n",
      "INFO:matplotlib.font_manager:Generating new fontManager, this may take some time...\n",
      "INFO:kpireport.plugin:Loaded view plugins: ['jenkins.build_summary', 'plot', 'single_stat', 'prometheus.alert_summary', 'table']\n",
      "INFO:kpireport.plugin:Initialized view num_users\n",
      "WARNING:kpireport.plugin:Could not load plugin 'scp': No module named 'kpireport_scp.SCPOutputDriver'\n",
      "INFO:kpireport.plugin:Loaded output driver plugins: ['static', 's3', 'sendgrid', 'smtp', 'slack']\n",
      "INFO:kpireport.plugin:Initialized output driver html\n",
      "INFO:kpireport.report:Sending report via output driver html\n",
      "Generated report in 1645.40ms.\n",
      "\u001b[?2004h"
     ]
    },
    {
     "ename": "",
     "evalue": "1",
     "output_type": "error",
     "traceback": []
    }
   ],
   "source": [
    "rm -rf out && mkdir -p out\n",
    "docker run --rm --net=tutorial_net \\\n",
    "  -v $(realpath config.yaml):/etc/kpireporter/config.yaml -v $(realpath out):/out \\\n",
    "  --env DATABASE_USER=kpireporter --env DATABASE_PASSWORD=kpireporter \\\n",
    "  kpireporter/kpireporter:edge"
   ]
  },
  {
   "cell_type": "markdown",
   "id": "played-palestine",
   "metadata": {},
   "source": [
    "## Examine output\n",
    "\n",
    "**[View output HTML](./out/latest-quickstart-tutorial/index.html)**"
   ]
  },
  {
   "cell_type": "markdown",
   "id": "later-remark",
   "metadata": {},
   "source": [
    "## Adding a new view\n",
    "\n",
    "We will now add a new view that shows the total number of users in the database, using the [Single stat](https://kpi-reporter.readthedocs.io/en/latest/plugins/plot.html#single-stat) plugin.\n"
   ]
  },
  {
   "cell_type": "code",
   "execution_count": 10,
   "id": "decent-license",
   "metadata": {},
   "outputs": [
    {
     "name": "stdout",
     "output_type": "stream",
     "text": [
      "---2004l\n",
      "title: Quickstart Tutorial\n",
      "\n",
      "datasources:\n",
      "    my_db:\n",
      "        plugin: mysql\n",
      "        args:\n",
      "            host: tutorial_mysql\n",
      "            user: ${DATABASE_USER}\n",
      "            password: ${DATABASE_PASSWORD}\n",
      "            \n",
      "views:\n",
      "    num_users:\n",
      "        cols: 3\n",
      "        plugin: plot\n",
      "        args:\n",
      "            datasource: my_db\n",
      "            query: select * from tutorial.new_users\n",
      "            kind: bar\n",
      "    total_users:\n",
      "        cols: 3\n",
      "        plugin: single_stat\n",
      "        args:\n",
      "            datasource: my_db\n",
      "            query: select sum(num_users) from tutorial.new_users\n",
      "            \n",
      "outputs:\n",
      "    html:\n",
      "        plugin: static\n",
      "        args:\n",
      "            output_dir: /out\n",
      "\u001b[?2004h"
     ]
    },
    {
     "ename": "",
     "evalue": "1",
     "output_type": "error",
     "traceback": []
    }
   ],
   "source": [
    "cat config-2.yaml"
   ]
  },
  {
   "cell_type": "code",
   "execution_count": 16,
   "id": "grave-symposium",
   "metadata": {},
   "outputs": [
    {
     "name": "stdout",
     "output_type": "stream",
     "text": [
      "rm: cannot remove 'out/2021-01-12_2021-01-19_quickstart-tutorial/index.html': Permission denied\n",
      "rm: cannot remove 'out/2021-01-12_2021-01-19_quickstart-tutorial/num_users/figure.png': Permission denied\n",
      "rm: cannot remove 'out/latest-quickstart-tutorial/index.html': Permission denied\n",
      "rm: cannot remove 'out/latest-quickstart-tutorial/num_users/figure.png': Permission denied\n",
      "INFO:kpireport.plugin:Loaded datasource plugins: ['jenkins', 'prometheus', 'mysql', 'googleanalytics']\n",
      "INFO:kpireport.plugin:Initialized datasource my_db\n",
      "INFO:matplotlib.font_manager:Generating new fontManager, this may take some time...\n",
      "INFO:kpireport.plugin:Loaded view plugins: ['jenkins.build_summary', 'plot', 'single_stat', 'prometheus.alert_summary', 'table']\n",
      "INFO:kpireport.plugin:Initialized view num_users\n",
      "INFO:kpireport.plugin:Initialized view total_users\n",
      "WARNING:kpireport.plugin:Could not load plugin 'scp': No module named 'kpireport_scp.SCPOutputDriver'\n",
      "INFO:kpireport.plugin:Loaded output driver plugins: ['static', 's3', 'sendgrid', 'smtp', 'slack']\n",
      "INFO:kpireport.plugin:Initialized output driver html\n",
      "INFO:kpireport.report:Sending report via output driver html\n",
      "Generated report in 1728.26ms.\n",
      "\u001b[?2004h"
     ]
    },
    {
     "ename": "",
     "evalue": "1",
     "output_type": "error",
     "traceback": []
    }
   ],
   "source": [
    "rm -rf out && mkdir -p out\n",
    "# Note we now pass \"config-2.yaml\" as the bind mount source.\n",
    "docker run --rm --net=tutorial_net \\\n",
    "  -v $(realpath config-2.yaml):/etc/kpireporter/config.yaml -v $(realpath out):/out \\\n",
    "  --env DATABASE_USER=kpireporter --env DATABASE_PASSWORD=kpireporter \\\n",
    "  kpireporter/kpireporter:edge"
   ]
  },
  {
   "cell_type": "markdown",
   "id": "twenty-width",
   "metadata": {},
   "source": [
    "**[View output HTML](./out/latest-quickstart-tutorial/index.html)**\n",
    "\n",
    "Notice that we added a `title` to the single stat view to give more context as to what the number indicates. Additionally, the view was placed side-by-side with the first plot by adjusting the `columns` parameter for each view. By default every report uses a 6-column layout, but this [can be configured at the theme level](https://kpi-reporter.readthedocs.io/en/latest/api/report.html#kpireport.report.Theme.num_columns)."
   ]
  },
  {
   "cell_type": "markdown",
   "id": "increased-contest",
   "metadata": {},
   "source": [
    "## Have fun!\n",
    "\n",
    "This example has hopefully given you some ideas on how to get started creating your first report :)\n",
    "If you are interested in not outputting HTML, but instead sending via email, refer to the plugin documentation for, e.g., the [SMTP](https://kpi-reporter.readthedocs.io/en/latest/plugins/smtp.html) or [SendGrid](https://kpi-reporter.readthedocs.io/en/stable/plugins/sendgrid.html) plugins."
   ]
  },
  {
   "cell_type": "code",
   "execution_count": null,
   "id": "ancient-boundary",
   "metadata": {},
   "outputs": [],
   "source": []
  }
 ],
 "metadata": {
  "kernelspec": {
   "display_name": "Bash",
   "language": "bash",
   "name": "bash"
  },
  "language_info": {
   "codemirror_mode": "shell",
   "file_extension": ".sh",
   "mimetype": "text/x-sh",
   "name": "bash"
  },
  "toc-autonumbering": false,
  "toc-showcode": false
 },
 "nbformat": 4,
 "nbformat_minor": 5
}
