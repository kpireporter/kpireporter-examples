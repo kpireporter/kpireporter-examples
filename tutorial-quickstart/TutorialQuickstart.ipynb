{
 "cells": [
  {
   "cell_type": "markdown",
   "id": "virtual-stephen",
   "metadata": {},
   "source": [
    "In this tutorial, we will be creating a report that pulls data from a MySQL table that contains a list of the number of users who signed up on each day. From that, we'll construct a few queries and plug them into some of the default [Plot](https://kpi-reporter.readthedocs.io/en/latest/plugins/plot.html) visualizations to make it look nice. Here's what it should ultimately look like:\n",
    "\n",
    "<img src=\"./example_output.png\" width=\"400\" style=\"border: 1px solid #cdcdcd;\" />\n",
    "\n",
    "Let's get started!"
   ]
  },
  {
   "cell_type": "markdown",
   "id": "vanilla-quantity",
   "metadata": {},
   "source": [
    "## Install KPI Reporter\n",
    "\n",
    "For this tutorial, we will only need a few plugins. You can install `kpireport[all]` to install all available plugins."
   ]
  },
  {
   "cell_type": "code",
   "execution_count": 19,
   "id": "correct-weapon",
   "metadata": {},
   "outputs": [
    {
     "name": "stdout",
     "output_type": "stream",
     "text": [
      "Requirement already satisfied: kpireport in /opt/conda/lib/python3.8/site-packages (0.1.5)\n",
      "Requirement already satisfied: kpireport-mysql in /opt/conda/lib/python3.8/site-packages (0.0.2)\n",
      "Requirement already satisfied: kpireport-static in /opt/conda/lib/python3.8/site-packages (0.1.0)\n",
      "Requirement already satisfied: kpireport-plot in /opt/conda/lib/python3.8/site-packages (0.1.2)\n",
      "Requirement already satisfied: stevedore in /opt/conda/lib/python3.8/site-packages (from kpireport) (3.3.0)\n",
      "Requirement already satisfied: authlib in /opt/conda/lib/python3.8/site-packages (from kpireport) (0.15.3)\n",
      "Requirement already satisfied: jinja2 in /opt/conda/lib/python3.8/site-packages (from kpireport) (2.11.3)\n",
      "Requirement already satisfied: pandas in /opt/conda/lib/python3.8/site-packages (from kpireport) (1.2.1)\n",
      "Requirement already satisfied: pyyaml in /opt/conda/lib/python3.8/site-packages (from kpireport) (5.4.1)\n",
      "Requirement already satisfied: python-slugify in /opt/conda/lib/python3.8/site-packages (from kpireport) (4.0.1)\n",
      "Requirement already satisfied: PyMySQL in /opt/conda/lib/python3.8/site-packages (from kpireport-mysql) (1.0.2)\n",
      "Requirement already satisfied: matplotlib in /opt/conda/lib/python3.8/site-packages (from kpireport-plot) (3.3.4)\n",
      "Requirement already satisfied: imgkit in /opt/conda/lib/python3.8/site-packages (from kpireport-static) (1.0.2)\n",
      "Requirement already satisfied: cryptography in /opt/conda/lib/python3.8/site-packages (from authlib->kpireport) (3.3.1)\n",
      "Requirement already satisfied: six>=1.4.1 in /opt/conda/lib/python3.8/site-packages (from cryptography->authlib->kpireport) (1.15.0)\n",
      "Requirement already satisfied: cffi>=1.12 in /opt/conda/lib/python3.8/site-packages (from cryptography->authlib->kpireport) (1.14.4)\n",
      "Requirement already satisfied: pycparser in /opt/conda/lib/python3.8/site-packages (from cffi>=1.12->cryptography->authlib->kpireport) (2.20)\n",
      "Requirement already satisfied: MarkupSafe>=0.23 in /opt/conda/lib/python3.8/site-packages (from jinja2->kpireport) (1.1.1)\n",
      "Requirement already satisfied: numpy>=1.15 in /opt/conda/lib/python3.8/site-packages (from matplotlib->kpireport-plot) (1.20.0)\n",
      "Requirement already satisfied: cycler>=0.10 in /opt/conda/lib/python3.8/site-packages (from matplotlib->kpireport-plot) (0.10.0)\n",
      "Requirement already satisfied: pyparsing!=2.0.4,!=2.1.2,!=2.1.6,>=2.0.3 in /opt/conda/lib/python3.8/site-packages (from matplotlib->kpireport-plot) (2.4.7)\n",
      "Requirement already satisfied: python-dateutil>=2.1 in /opt/conda/lib/python3.8/site-packages (from matplotlib->kpireport-plot) (2.8.1)\n",
      "Requirement already satisfied: pillow>=6.2.0 in /opt/conda/lib/python3.8/site-packages (from matplotlib->kpireport-plot) (8.1.0)\n",
      "Requirement already satisfied: kiwisolver>=1.0.1 in /opt/conda/lib/python3.8/site-packages (from matplotlib->kpireport-plot) (1.3.1)\n",
      "Requirement already satisfied: pytz>=2017.3 in /opt/conda/lib/python3.8/site-packages (from pandas->kpireport) (2020.5)\n",
      "Requirement already satisfied: text-unidecode>=1.3 in /opt/conda/lib/python3.8/site-packages (from python-slugify->kpireport) (1.3)\n",
      "Requirement already satisfied: pbr!=2.1.0,>=2.0.0 in /opt/conda/lib/python3.8/site-packages (from stevedore->kpireport) (5.5.1)\n"
     ]
    }
   ],
   "source": [
    "pip install kpireport kpireport-mysql kpireport-static kpireport-plot"
   ]
  },
  {
   "cell_type": "markdown",
   "id": "frank-regular",
   "metadata": {},
   "source": [
    "## Set up test database\n",
    "\n",
    "For this tutorial, we'll be using a test database on a local MySQL server. A `initdb.sql` file has the test data; by updating this file and re-run this step you can re-seed the local database."
   ]
  },
  {
   "cell_type": "code",
   "execution_count": 22,
   "id": "retired-slide",
   "metadata": {},
   "outputs": [
    {
     "name": "stdout",
     "output_type": "stream",
     "text": [
      "Database initialized.\n"
     ]
    }
   ],
   "source": [
    "# Start the server in the background\n",
    "[[ -f /tmp/mysql.pid ]] || (mysqld &) && while [[ ! -f /tmp/mysql.pid ]]; do sleep 1; done\n",
    "# Initialize the database and tables\n",
    "mysql <initdb.sql && echo \"Database initialized.\""
   ]
  },
  {
   "cell_type": "markdown",
   "id": "found-suffering",
   "metadata": {},
   "source": [
    "## Run your first report\n",
    "\n",
    "A `config.yaml` file contains our report configuration. We will start by defining a [**Datasource**](https://kpi-reporter.readthedocs.io/en/latest/api/datasource.html) for our MariaDB server and a [**View**](https://kpi-reporter.readthedocs.io/en/latest/api/view.html) displaying the result of a query as a bar chart. Here is the configuration this first report uses:"
   ]
  },
  {
   "cell_type": "code",
   "execution_count": 20,
   "id": "general-section",
   "metadata": {},
   "outputs": [
    {
     "name": "stdout",
     "output_type": "stream",
     "text": [
      "---\n",
      "title: Quickstart Tutorial\n",
      "\n",
      "datasources:\n",
      "    my_db:\n",
      "        plugin: mysql\n",
      "        args:\n",
      "            host: localhost\n",
      "            user: ${USER}\n",
      "\n",
      "views:\n",
      "    num_users:\n",
      "        plugin: plot\n",
      "        args:\n",
      "            datasource: my_db\n",
      "            query: select * from tutorial.new_users\n",
      "            kind: bar\n",
      "\n",
      "outputs:\n",
      "    png:\n",
      "        plugin: static\n",
      "        args:\n",
      "            output_format: png\n",
      "    html:\n",
      "        plugin: static\n",
      "        args:\n",
      "            output_format: html\n"
     ]
    }
   ],
   "source": [
    "cat config.yaml"
   ]
  },
  {
   "cell_type": "markdown",
   "id": "provincial-jimmy",
   "metadata": {},
   "source": [
    "Let's break down what's going on.\n",
    "\n",
    "* In the `datasources` section, we define a new Datasource and call it `my_db`. It uses the MySQL plugin, and allows us to query our MySQL database from within a particular View.\n",
    "* In the `views` section, we define one view called `num_users`. It is going to show a bar chart of the number of users who signed up on that day. Our table has a `date` column already, so the plotter understands this should be plotted as time-based data. If we had a different column name we could use the `date_column` argument to give the plotter some help.\n",
    "* In the `outputs` section we specify that we want the report outputted both in HTML and PNG format. Rendering a report like this to a static file (or group of files) is handled by the Static plugin.\n",
    "\n",
    "We can now run the report and see how it goes:"
   ]
  },
  {
   "cell_type": "code",
   "execution_count": 25,
   "id": "frequent-psychiatry",
   "metadata": {},
   "outputs": [
    {
     "name": "stdout",
     "output_type": "stream",
     "text": [
      "INFO:kpireport.plugin:Loaded datasource plugins: ['mysql', 'jenkins', 'prometheus', 'googleanalytics']\n",
      "INFO:kpireport.plugin:Initialized datasource my_db\n",
      "INFO:kpireport.plugin:Loaded view plugins: ['jenkins.build_summary', 'plot', 'single_stat', 'prometheus.alert_summary', 'table']\n",
      "INFO:kpireport.plugin:Initialized view num_users\n",
      "INFO:kpireport.plugin:Loaded output driver plugins: ['static', 's3', 'slack', 'scp', 'sendgrid', 'smtp']\n",
      "INFO:kpireport.plugin:Initialized output driver png\n",
      "INFO:kpireport.plugin:Initialized output driver html\n",
      "INFO:kpireport.report:Sending report via output driver png\n",
      "QStandardPaths: XDG_RUNTIME_DIR not set, defaulting to '/tmp/runtime-jovyan'\n",
      "Loading page (1/2)\n",
      "Rendering (2/2)                                                    \n",
      "Done                                                               \n",
      "INFO:kpireport.report:Sending report via output driver html\n",
      "Generated report in 2601.75ms.\n"
     ]
    }
   ],
   "source": [
    "kpireport -c config.yaml"
   ]
  },
  {
   "cell_type": "markdown",
   "id": "enclosed-occupation",
   "metadata": {
    "tags": [
     "remove_cell"
    ]
   },
   "source": [
    "## Examine output\n",
    "\n",
    "By default, the Static plugin outputs the report to the `_build` folder. This can be changed by specifying a different `output_path`.\n",
    "\n",
    "**View output**: [HTML](./_build/latest-quickstart-tutorial/index.html), [PNG](./_build/latest-quickstart-tutorial.png)"
   ]
  },
  {
   "cell_type": "markdown",
   "id": "completed-quest",
   "metadata": {},
   "source": [
    "## Building out more views\n",
    "\n",
    "We will now add a few new views:\n",
    "\n",
    "1. Print the total number of users in the database as a [single stat](https://kpi-reporter.readthedocs.io/en/latest/plugins/plot.html#single-stat) view.\n",
    "2. Show a plot of the total number of users over time, using a more advanced SQL query.\n",
    "\n",
    "The updated configuration looks like this:"
   ]
  },
  {
   "cell_type": "code",
   "execution_count": 26,
   "id": "metallic-texture",
   "metadata": {},
   "outputs": [
    {
     "name": "stdout",
     "output_type": "stream",
     "text": [
      "---\n",
      "title: Quickstart Tutorial\n",
      "\n",
      "datasources:\n",
      "    my_db:\n",
      "        plugin: mysql\n",
      "        args:\n",
      "            host: localhost\n",
      "            user: ${USER}\n",
      "\n",
      "views:\n",
      "    num_users:\n",
      "        cols: 4\n",
      "        plugin: plot\n",
      "        args:\n",
      "            datasource: my_db\n",
      "            query: select * from tutorial.new_users\n",
      "            kind: bar\n",
      "    total_users:\n",
      "        title: Total new users\n",
      "        cols: 2\n",
      "        plugin: single_stat\n",
      "        args:\n",
      "            datasource: my_db\n",
      "            query: select sum(num_new_users) from tutorial.new_users\n",
      "    users_over_time:\n",
      "        title: Users over time\n",
      "        plugin: plot\n",
      "        args:\n",
      "            datasource: my_db\n",
      "            query: |\n",
      "                select `date`, sum(num_new_users) over (order by `date`) as total_users\n",
      "                from tutorial.new_users\n",
      "\n",
      "outputs:\n",
      "    png:\n",
      "        plugin: static\n",
      "        args:\n",
      "            output_format: png\n",
      "    html:\n",
      "        plugin: static\n",
      "        args:\n",
      "            output_format: html"
     ]
    }
   ],
   "source": [
    "cat config-2.yaml"
   ]
  },
  {
   "cell_type": "markdown",
   "id": "vulnerable-thunder",
   "metadata": {},
   "source": [
    "We'll re-run the report with this new configuration:"
   ]
  },
  {
   "cell_type": "code",
   "execution_count": 27,
   "id": "handy-retro",
   "metadata": {},
   "outputs": [
    {
     "name": "stdout",
     "output_type": "stream",
     "text": [
      "INFO:kpireport.plugin:Loaded datasource plugins: ['mysql', 'jenkins', 'prometheus', 'googleanalytics']\n",
      "INFO:kpireport.plugin:Initialized datasource my_db\n",
      "INFO:kpireport.plugin:Loaded view plugins: ['jenkins.build_summary', 'plot', 'single_stat', 'prometheus.alert_summary', 'table']\n",
      "INFO:kpireport.plugin:Initialized view num_users\n",
      "INFO:kpireport.plugin:Initialized view total_users\n",
      "INFO:kpireport.plugin:Initialized view users_over_time\n",
      "INFO:kpireport.plugin:Loaded output driver plugins: ['static', 's3', 'slack', 'scp', 'sendgrid', 'smtp']\n",
      "INFO:kpireport.plugin:Initialized output driver png\n",
      "INFO:kpireport.plugin:Initialized output driver html\n",
      "INFO:kpireport.report:Sending report via output driver png\n",
      "QStandardPaths: XDG_RUNTIME_DIR not set, defaulting to '/tmp/runtime-jovyan'\n",
      "Loading page (1/2)\n",
      "Rendering (2/2)                                                    \n",
      "Done                                                               \n",
      "INFO:kpireport.report:Sending report via output driver html\n",
      "Generated report in 4062.14ms.\n"
     ]
    }
   ],
   "source": [
    "kpireport -c config-2.yaml"
   ]
  },
  {
   "cell_type": "markdown",
   "id": "widespread-stevens",
   "metadata": {
    "tags": [
     "remove_cell"
    ]
   },
   "source": [
    "**View output**: [HTML](./_build/latest-quickstart-tutorial/index.html), [PNG](./_build/latest-quickstart-tutorial.png)"
   ]
  },
  {
   "cell_type": "markdown",
   "id": "duplicate-spine",
   "metadata": {},
   "source": [
    "Notice that we added a `title` to the single stat view to give more context as to what the number indicates. Additionally, the stat view was placed side-by-side with the first plot by adjusting the `columns` parameter for each view. By default every report uses a 6-column layout, but this [can be configured at the theme level](https://kpi-reporter.readthedocs.io/en/latest/api/report.html#kpireport.report.Theme.num_columns)."
   ]
  },
  {
   "cell_type": "markdown",
   "id": "natural-cotton",
   "metadata": {},
   "source": [
    "## Have fun!\n",
    "\n",
    "This example has hopefully given you some ideas on how to get started creating your first report :)\n",
    "If you are interested in not outputting HTML, but instead sending via email, refer to the plugin documentation for, e.g., the [SMTP](https://kpi-reporter.readthedocs.io/en/latest/plugins/smtp.html) or [SendGrid](https://kpi-reporter.readthedocs.io/en/stable/plugins/sendgrid.html) plugins."
   ]
  }
 ],
 "metadata": {
  "kernelspec": {
   "display_name": "Bash",
   "language": "bash",
   "name": "bash"
  },
  "language_info": {
   "codemirror_mode": "shell",
   "file_extension": ".sh",
   "mimetype": "text/x-sh",
   "name": "bash"
  },
  "toc-autonumbering": false,
  "toc-showcode": false
 },
 "nbformat": 4,
 "nbformat_minor": 5
}
